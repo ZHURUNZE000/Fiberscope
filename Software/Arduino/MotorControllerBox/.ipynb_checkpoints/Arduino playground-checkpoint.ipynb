{
 "metadata": {
  "name": "",
  "signature": "sha256:91b896ac76f00395df71b69e09f6297475197a813eb9f1bfced75e6c14b4172a"
 },
 "nbformat": 3,
 "nbformat_minor": 0,
 "worksheets": [
  {
   "cells": [
    {
     "cell_type": "code",
     "collapsed": false,
     "input": [
      "import serial"
     ],
     "language": "python",
     "metadata": {},
     "outputs": []
    },
    {
     "cell_type": "code",
     "collapsed": false,
     "input": [
      "com = serial.Serial('COM4', 115200)"
     ],
     "language": "python",
     "metadata": {},
     "outputs": []
    }
   ],
   "metadata": {}
  }
 ]
}